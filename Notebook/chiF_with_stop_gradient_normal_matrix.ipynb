{
 "cells": [
  {
   "cell_type": "markdown",
   "metadata": {
    "id": "YDrOrJmyDtry"
   },
   "source": [
    "# Fidelity Susceptibility For 1D TFIM\n",
    "## 1D TFIM\n",
    "- The transverse field Ising model (TFIM) on a 1-dimensional lattice have the Hamiltonian:\n",
    "$$\n",
    "H = - \\sum_{i=0}^{N-1} \\left( g\\sigma_i^x + \\sigma_i^z \\sigma_{i+1}^z \\right)\n",
    "$$\n",
    "- Where g is a non-negtive parameter, have to do with the strength of the transverse magnetic field.\n",
    "\n",
    "## Fidelity Susceptibility\n",
    "- Fidelity susceptibility is used as an indicator for quantum phase transition (QPT), when the system is \n",
    "experiencing a QPT, the calculated fidelity susceptibility $\\chi_F$ would be significantly large.\n",
    "- From **quantum fidelity**, $F$:\n",
    "$$\n",
    "F(g, \\epsilon) = \\left| \\left< \\psi_0(g) | \\psi_0(g+\\epsilon) \\right> \\right|\n",
    "$$\n",
    "- We have **fidelity susceptibility**, $\\chi_F$ as:\n",
    "$$\n",
    "\\chi_{F}=-\\left.\\frac{\\partial^{2} \\ln F(g, \\varepsilon)}{\\partial \\varepsilon^{2}}\\right|_{\\varepsilon=0}\n",
    "$$\n",
    "- To make implementation more conveniently, we could transform it into another form:\n",
    "$$\n",
    "\\chi_{F}=-\\left.\\frac{\\partial^{2}}{\\partial g^{\\prime 2}} \\ln \\left|\\left\\langle\\psi_{0}(g) \\mid \\psi_{0}\\left(g^{\\prime}\\right)\\right\\rangle\\right|\\right|_{g^{\\prime}=g}\n",
    "$$\n",
    "- Note here the partial derivative is only applied to one of the two ground states."
   ]
  },
  {
   "cell_type": "markdown",
   "metadata": {},
   "source": [
    "# Implementation Guide\n",
    "- In this notebook, the automatic-differentiation (AD)is used to compute the second order derivative of the log product of the overlap of two ground state wave functions.\n",
    "- AD could be significantly powerful if we could define function primitives properly, and it gives a general paradigm for solving even higher order derivatives.\n",
    "- In this notebook, the AD package **JAX** is used to customize derivative rules for function primitives, and to perform the automatic differentiation."
   ]
  },
  {
   "cell_type": "markdown",
   "metadata": {
    "id": "0VDQQf8BDtr8"
   },
   "source": [
    "# Jax Support\n",
    "- Import **JAX** packages"
   ]
  },
  {
   "cell_type": "code",
   "execution_count": 10,
   "metadata": {
    "executionInfo": {
     "elapsed": 2692,
     "status": "ok",
     "timestamp": 1632191023825,
     "user": {
      "displayName": "Catharsis Callo",
      "photoUrl": "https://lh3.googleusercontent.com/a-/AOh14GjYKz65NU1kB8xW9P-miQ8-Vlk76TiAniWp0Mvs=s64",
      "userId": "07780488775486619352"
     },
     "user_tz": -480
    },
    "id": "NAWn8f-NDtr9"
   },
   "outputs": [],
   "source": [
    "import jax.numpy as jnp\n",
    "from jax import  grad,lax\n",
    "from jax.config import config\n",
    "from jax import custom_vjp\n",
    "import numpy as np\n",
    "\n",
    "config.update(\"jax_enable_x64\", True)"
   ]
  },
  {
   "cell_type": "markdown",
   "metadata": {
    "id": "oetnot36Dtr9"
   },
   "source": [
    "# TFIM Model Initialization\n",
    "- Initialize the TFIM model with the Hamiltonian shown above."
   ]
  },
  {
   "cell_type": "code",
   "execution_count": 11,
   "metadata": {
    "executionInfo": {
     "elapsed": 5,
     "status": "ok",
     "timestamp": 1632191023825,
     "user": {
      "displayName": "Catharsis Callo",
      "photoUrl": "https://lh3.googleusercontent.com/a-/AOh14GjYKz65NU1kB8xW9P-miQ8-Vlk76TiAniWp0Mvs=s64",
      "userId": "07780488775486619352"
     },
     "user_tz": -480
    },
    "id": "l12fvXy1Dtr-"
   },
   "outputs": [],
   "source": [
    "\n",
    "class TFIM(object):\n",
    "    \"\"\"\n",
    "        1D Transverse Field Ising Model(TFIM)\n",
    "        Hamiltonian:\n",
    "        H = - \\sum_{i=0}^{N-1} (g \\sigma_i^x + \\sigma-i^z \\sigma_{i+1}^z)\n",
    "    \"\"\"\n",
    "    def __init__(self, N,g):\n",
    "        \"\"\"\n",
    "        Initialization of the model\n",
    "        \"\"\"\n",
    "        self.N = N\n",
    "        self.dim = 2**N\n",
    "        self.g = g\n",
    "        self._diags()\n",
    "        self._flips_basis()\n",
    "\n",
    "    def _diags(self):\n",
    "        \"\"\"\n",
    "        Deal with the diagonal elements of the Harmiltonian\n",
    "        \"\"\"\n",
    "        indices = jnp.arange(self.dim)[:,jnp.newaxis]\n",
    "        bin_reps = (indices >> jnp.arange(self.N)[::-1]) & 1\n",
    "        spins = 1 - 2 * bin_reps\n",
    "        spins_prime = jnp.hstack( (spins[:,1:] , spins[:,0:1]) )\n",
    "        self.diag_elements = -(spins * spins_prime).sum(axis=1)\n",
    "\n",
    "    def _flips_basis(self):\n",
    "        \"\"\"\n",
    "        Deal with \\sigma_i^x\n",
    "        \"\"\"\n",
    "        masks = jnp.array([1 << i for i in range(self.N)], dtype=\"int64\")\n",
    "        basis = jnp.arange(self.dim)[:,None]\n",
    "        self.flips_basis = basis ^ masks\n",
    "\n",
    "    def setpHpg(self):\n",
    "        \"\"\"\n",
    "        Return the direct matrix of\n",
    "        \\partial H / \\partial g\n",
    "        To be used in the full spectrum perturbation formula method\n",
    "        of calculating chi_F(fidelity susceptibility)\n",
    "        \"\"\"\n",
    "        self.pHpgmatrix = jnp.zeros([self.dim,self.dim], dtype=\"float64\")\n",
    "        self.pHpgmatrix = self.pHpgmatrix.at[self.flips_basis.T, jnp.arange(self.dim)].set(-1.0)\n",
    "\n",
    "    def pHpg(self,v):\n",
    "        \"\"\"\n",
    "        Using equation (26):\n",
    "        pHpg = \\partial H / \\partial g\n",
    "            =  - \\sum_{i=0}^{N-1} \\sigma_i^x\n",
    "        \"\"\"\n",
    "        resultv = -v[self.flips_basis].sum(axis=1)\n",
    "        return resultv\n",
    "\n",
    "    def setHmatrix(self):\n",
    "        \"\"\"\n",
    "        Initialize the Hamiltonian \n",
    "        To be stored in \"self.Hmatrix\"\n",
    "        \"\"\"\n",
    "        diagmatrix = jnp.diag(self.diag_elements)\n",
    "        offdiagmatrix = jnp.zeros([self.dim,self.dim],dtype=\"float64\")\n",
    "        offdiagmatrix = offdiagmatrix.at[self.flips_basis.T, jnp.arange(self.dim)].set(-self.g)\n",
    "\n",
    "        #to avoid devided by zero, add random noise into the Hamiltonian\n",
    "        randommatrix = 1e-12 * jnp.array(np.random.randn(self.dim, self.dim))\n",
    "        randommatrix = 0.5 * (randommatrix + randommatrix.T)\n",
    "\n",
    "        self.Hmatrix = diagmatrix + offdiagmatrix + randommatrix\n",
    "\n",
    "    def H(self, v):\n",
    "        \"\"\"\n",
    "        The sparse Hamiltonian \n",
    "        Written in a function representation\n",
    "        Aka, a \"sparse\" linear transformation that\n",
    "        recieves a vector v and returns another vector\n",
    "        \"\"\"\n",
    "        resultv = v * self.diag_elements - self.g * v[self.flips_basis].sum(axis=1)\n",
    "        return resultv\n",
    "\n",
    "    def Hadjoint_to_gadjoint(self, v_1, v_2):\n",
    "        \"\"\"\n",
    "        A function that receive the adjoint of the matrix H\n",
    "        as input, and return the adjoint of g as output.\n",
    "        \"\"\"\n",
    "        return jnp.matmul(self.pHpg(v_2),v_1)[None]\n",
    "\n"
   ]
  },
  {
   "cell_type": "markdown",
   "metadata": {
    "id": "EojZt-lCDtr_"
   },
   "source": [
    "# Lanczos Implementation\n",
    "- Here the Lanczos algorithm is used for eigensolver in the future.(see https://en.wikipedia.org/wiki/Lanczos_algorithm)"
   ]
  },
  {
   "cell_type": "markdown",
   "metadata": {
    "id": "dOVTJHd0Dtr_"
   },
   "source": [
    "## Lanczos Algorithm"
   ]
  },
  {
   "cell_type": "code",
   "execution_count": 12,
   "metadata": {
    "executionInfo": {
     "elapsed": 5,
     "status": "ok",
     "timestamp": 1632191023826,
     "user": {
      "displayName": "Catharsis Callo",
      "photoUrl": "https://lh3.googleusercontent.com/a-/AOh14GjYKz65NU1kB8xW9P-miQ8-Vlk76TiAniWp0Mvs=s64",
      "userId": "07780488775486619352"
     },
     "user_tz": -480
    },
    "id": "RSNF7JIsDtsA"
   },
   "outputs": [],
   "source": [
    "def Lanczos(A, k, *, sparse=False, dim=None):\n",
    "    \"\"\"\n",
    "    Lanczos method to help solve the eigenvalue\n",
    "    and eigenvector of a real symmetrix matrix.\n",
    "\n",
    "    Input:  'A': The n times n real symmetrix matrix.\n",
    "            'k': The number of Lanczos vectors requested.\n",
    "            'sparse': If sparse = True, means the matrix\n",
    "                    input A is in a linear function representation\n",
    "                    form.\n",
    "            'dim':  If sparse = True, then the integer param 'dim'\n",
    "                    should be given, indicating the dimension\n",
    "                    of the square matrix A\n",
    "\n",
    "    Output: A tuple (Q_k, T): Q_k = (q_1 q_2 ... q_k) is a n*k matrix, \n",
    "            whose columns contain k orthomormal Lanczos vectors q1, q2, ..., qk.\n",
    "            T is the tridiagonal matrix of size k, satisfying Qk^T * Q_k = I_k,\n",
    "            and T has the same eigenvalue with matrix A, and the eigenvector\n",
    "            of A could be drawn from the eigenvector of T.( let eigenvector of T\n",
    "            be x, then y=Q_k*x is the eigenvector of A)\n",
    "    \"\"\"\n",
    "    if sparse == True:\n",
    "        n = dim\n",
    "        dtype = jnp.float64\n",
    "        Amap = A\n",
    "    else:\n",
    "        n = A.shape[0]\n",
    "        dtype = A.dtype\n",
    "        Amap = lambda v: jnp.matmul(A, v)\n",
    "    \n",
    "    Q_k = jnp.zeros((n,k), dtype=dtype)\n",
    "    alphas = jnp.zeros(k, dtype=dtype)\n",
    "    betas = jnp.zeros(k - 1, dtype=dtype)\n",
    "    q = jnp.array(np.random.randn(n).astype(dtype))\n",
    "    q /= jnp.linalg.norm(q)\n",
    "    u = Amap(q)\n",
    "    alpha = jnp.matmul(q,u)\n",
    "    Q_k = Q_k.at[:, 0].set(q)\n",
    "    alphas = alphas.at[0].set(alpha)\n",
    "    beta = 0\n",
    "    qprime = jnp.array(np.random.randn(n).astype(dtype))\n",
    "    for i in range(1,k):\n",
    "        r = u - alpha * q - beta * qprime\n",
    "\n",
    "        #Reorthogonalization\n",
    "        r -= jnp.matmul(Q_k[:, :i], jnp.matmul(Q_k[:, :i].T, r))\n",
    "\n",
    "        qprime = q\n",
    "        beta = jnp.linalg.norm(r)\n",
    "        q = r / beta\n",
    "        u = Amap(q)\n",
    "        alpha = jnp.matmul(q,u)\n",
    "        alphas = alphas.at[i].set(alpha)\n",
    "        betas = betas.at[i-1].set(beta)\n",
    "        Q_k = Q_k.at[:, i].set(q)\n",
    "    #param k in jnp.diag indicates which diagonal to consider\n",
    "    T = jnp.diag(alphas) + jnp.diag(betas, k=1) + jnp.diag(betas, k=-1)\n",
    "    return Q_k, T"
   ]
  },
  {
   "cell_type": "markdown",
   "metadata": {
    "id": "G9ZjQ7pQDtsB"
   },
   "source": [
    "## Eigensolver for symmetric matrix with Lanczos\n",
    "- Computes the extreme eigenvalues and eigenvectors\n",
    "    upon request of a symmetric matrix A with Lanczos\n",
    "    algorithm implemented."
   ]
  },
  {
   "cell_type": "code",
   "execution_count": 13,
   "metadata": {
    "executionInfo": {
     "elapsed": 453,
     "status": "ok",
     "timestamp": 1632191024274,
     "user": {
      "displayName": "Catharsis Callo",
      "photoUrl": "https://lh3.googleusercontent.com/a-/AOh14GjYKz65NU1kB8xW9P-miQ8-Vlk76TiAniWp0Mvs=s64",
      "userId": "07780488775486619352"
     },
     "user_tz": -480
    },
    "id": "2jwUPmfbDtsC"
   },
   "outputs": [],
   "source": [
    "def symeigLanczos(A, k, extreme=\"both\", *,\n",
    "                    sparse=False, dim=None):\n",
    "    \"\"\"\n",
    "        Computes the extreme eigenvalues and eigenvectors\n",
    "    upon request of a symmetric matrix A with Lanczos\n",
    "    algorithm implemented.\n",
    "\n",
    "    Input:  'A': The n times n real symmetrix matrix.\n",
    "        'k': The number of Lanczos vectors requested.\n",
    "        'sparse': If sparse = True, means the matrix\n",
    "                input A is in a linear function representation\n",
    "                form.\n",
    "        'dim':  If sparse = True, then the integer param 'dim'\n",
    "                should be given, indicating the dimension\n",
    "                of the square matrix A\n",
    "        'extreme':  labels the desired eigenvalues and \n",
    "                corresponding eigenvectors to be returned.\n",
    "                Specificlly,\n",
    "                \"both\" -> both min and max.     --Output--> (eigval_min, eigvector_min, eigval_max, eigvector_max)\n",
    "                \"min\" -> min.                   --Output--> (eigval_min, eigvector_min)\n",
    "                \"max\" -> max.                   --Output--> (eigval_max, eigvector_max)\n",
    "    Output: See \"Input\" above.\n",
    "    \"\"\"\n",
    "    Q_k, T = Lanczos(A, k, sparse=sparse, dim=dim)\n",
    "    eigvalsQ, eigvectorsQ = jnp.linalg.eigh(T,UPLO='U')\n",
    "    eigvectorsQ = jnp.matmul(Q_k,eigvectorsQ)\n",
    "    if extreme == \"both\":\n",
    "        return eigvalsQ[0], eigvectorsQ[:, 0], eigvalsQ[-1], eigvectorsQ[:, -1]\n",
    "    elif extreme == \"min\":\n",
    "        return eigvalsQ[0], eigvectorsQ[:, 0]\n",
    "    elif extreme == \"max\":\n",
    "        return eigvalsQ[-1], eigvectorsQ[:, -1]"
   ]
  },
  {
   "cell_type": "markdown",
   "metadata": {
    "id": "qWL_uoAsDtsC"
   },
   "source": [
    "# CG Implementation\n",
    "- Conjugate Gradient(CG) method is used to solve linear system as $A \\vec{x} = \\vec{b}$"
   ]
  },
  {
   "cell_type": "markdown",
   "metadata": {
    "id": "O1SMdcepDtsC"
   },
   "source": [
    "## CG Linear System Solver"
   ]
  },
  {
   "cell_type": "code",
   "execution_count": 14,
   "metadata": {
    "executionInfo": {
     "elapsed": 11,
     "status": "ok",
     "timestamp": 1632191024278,
     "user": {
      "displayName": "Catharsis Callo",
      "photoUrl": "https://lh3.googleusercontent.com/a-/AOh14GjYKz65NU1kB8xW9P-miQ8-Vlk76TiAniWp0Mvs=s64",
      "userId": "07780488775486619352"
     },
     "user_tz": -480
    },
    "id": "27zBlORKDtsC"
   },
   "outputs": [],
   "source": [
    "def CG_Algorithm(A, b, initial_x, sparse=False):\n",
    "    \"\"\"\n",
    "    Solve for x in linear equation Ax=b\n",
    "    with an initial choose of x, initial_x.\n",
    "    Note here A is a matrix and x and b are vectors.\n",
    "    Using Conjugate Gradient(CG) method.\n",
    "\n",
    "    Input:\n",
    "        'A': The real symmetric and positive definite\n",
    "            matrix A.\n",
    "        'b': The vector corresponding to the equation Ax=b\n",
    "        'initial_x': The initial vector of the CG algorithm.\n",
    "        `sparse`: If sparse = True, means the matrix\n",
    "                input A is in a linear function representation\n",
    "                form. In any cases, the dimension of A is \n",
    "                inferred from the size of the vector b.\n",
    "    Output:\n",
    "        'x': the solution for Ax=b\n",
    "    \"\"\"\n",
    "    if sparse == True:\n",
    "        Amap = A\n",
    "    else:\n",
    "        Amap = lambda v: np.matmul(A,v)\n",
    "    n = b.shape[0]\n",
    "    epsilon = 1e-7\n",
    "    x = initial_x\n",
    "    r = b - Amap(x)\n",
    "\n",
    "    if(np.linalg.norm(r) < epsilon):\n",
    "        return x\n",
    "\n",
    "    d = r\n",
    "    alpha = np.matmul(r, r) / np.matmul(Amap(d),d)\n",
    "\n",
    "    for i in range(n):\n",
    "        x = x + alpha * d\n",
    "        r_next = r - alpha * Amap(d)\n",
    "        if(np.linalg.norm(r_next) < epsilon):\n",
    "            break\n",
    "        beta = np.matmul(r_next,r_next) / np.matmul(r,r)\n",
    "        r = r_next\n",
    "        d = r + beta * d\n",
    "        alpha = np.matmul(r,r) / np.matmul(Amap(d), d)\n",
    "    \n",
    "    return x"
   ]
  },
  {
   "cell_type": "markdown",
   "metadata": {
    "id": "614vKUVMDtsD"
   },
   "source": [
    "## CG function primitive\n",
    "- CG function primitive, here ``custom_vjp`` is used to customize the behavior of the back-propagation of the gradients. Reference:https://buwantaiji.github.io/2019/10/CG-backward/"
   ]
  },
  {
   "cell_type": "code",
   "execution_count": 15,
   "metadata": {
    "executionInfo": {
     "elapsed": 10,
     "status": "ok",
     "timestamp": 1632191024278,
     "user": {
      "displayName": "Catharsis Callo",
      "photoUrl": "https://lh3.googleusercontent.com/a-/AOh14GjYKz65NU1kB8xW9P-miQ8-Vlk76TiAniWp0Mvs=s64",
      "userId": "07780488775486619352"
     },
     "user_tz": -480
    },
    "id": "15XwnA1KDtsD"
   },
   "outputs": [],
   "source": [
    "@custom_vjp\n",
    "def CGSubspace(A, b, alpha):\n",
    "    \"\"\"\n",
    "    Function primitive for low-rank CG linear\n",
    "    system solver, here A is not 'sparse',\n",
    "    hence in a normal matrix form.\n",
    "    Input: 'A': a N-dimensional real symmetric\n",
    "        matrix of rank N - 1\n",
    "            'b': The vector satisfying Ax=b\n",
    "            'alpha': The unique eigenvector of A of eigenvalue\n",
    "        zero.(The other eigenvalues of A are all greater than zero.)\n",
    "    Output: the unique solution x of the low-rank \n",
    "            linear system Ax = b in addition to\n",
    "            the condition alpha^T x = 0.\n",
    "    \"\"\"\n",
    "    initial_x = jnp.array(np.random.randn(b.shape[0]).astype(b.dtype))\n",
    "    initial_x = initial_x - jnp.matmul(alpha, initial_x) * alpha\n",
    "    x = CG_Algorithm(A, b, initial_x)\n",
    "    return x\n",
    "\n",
    "def CGSubspace_fwd(A, b, alpha):\n",
    "    x = CGSubspace(A,b,alpha)\n",
    "    return x, (A,alpha,x)\n",
    "\n",
    "def CGSubspace_bwd(res, grad_x):\n",
    "    A, alpha, x = res\n",
    "    CG = CGSubspace\n",
    "    b = grad_x - jnp.matmul(alpha, grad_x) * alpha\n",
    "    grad_b = CG(A, b, alpha)\n",
    "    grad_A = - grad_b[:, None] * x\n",
    "    grad_alpha = - x * jnp.matmul(alpha, grad_x)\n",
    "    return (grad_A, grad_b, grad_alpha)\n",
    "\n",
    "CGSubspace.defvjp(CGSubspace_fwd,CGSubspace_bwd)"
   ]
  },
  {
   "cell_type": "markdown",
   "metadata": {
    "id": "VGf3dXK8DtsD"
   },
   "source": [
    "# Dominant Eigensolver primitive for symmetric matrix\n",
    "- Dominant eigensolver function primitive, also customized with ``costum_vjp``, and here the function recieves the input A as a normal matrix (but not a spare representation)."
   ]
  },
  {
   "cell_type": "code",
   "execution_count": 16,
   "metadata": {
    "executionInfo": {
     "elapsed": 11,
     "status": "ok",
     "timestamp": 1632191024279,
     "user": {
      "displayName": "Catharsis Callo",
      "photoUrl": "https://lh3.googleusercontent.com/a-/AOh14GjYKz65NU1kB8xW9P-miQ8-Vlk76TiAniWp0Mvs=s64",
      "userId": "07780488775486619352"
     },
     "user_tz": -480
    },
    "id": "fdWf8w3_DtsE"
   },
   "outputs": [],
   "source": [
    "@custom_vjp\n",
    "def DominantSymeig(A,k):\n",
    "    \"\"\"\n",
    "    Function primitive of dominant real symmetric\n",
    "    eigensolver\n",
    "\n",
    "    Input:  'A': the real symmetric matrix A,\n",
    "                in a normal matrix form\n",
    "            'k': number of requested Lanczos vectors\n",
    "    Output: 'eigval': the smallest eigenvalue of A\n",
    "            'eigvector':corresponding (non-degenerate)\n",
    "                    eigenvector\n",
    "    \"\"\"\n",
    "    eigval, eigvector = symeigLanczos(A, k, extreme=\"min\")\n",
    "    return (eigval, eigvector)\n",
    "\n",
    "def DominantSymeig_fwd(A,k):\n",
    "    eigval, eigvector = DominantSymeig(A,k)\n",
    "    return (eigval, eigvector), (A, eigval, eigvector)\n",
    "\n",
    "def DominantSymeig_bwd(res, grads):\n",
    "    grad_eigval, grad_eigvector = grads\n",
    "    A, eigval, eigvector = res\n",
    "    Aprime = A - eigval * jnp.array(np.eye(A.shape[0]).astype(A.dtype))\n",
    "    cg = CGSubspace\n",
    "    b = grad_eigvector - jnp.matmul(eigvector, grad_eigvector) * eigvector\n",
    "    lambda_0 = cg(Aprime, b, eigvector)\n",
    "    grad_A = (grad_eigval * eigvector - lambda_0)[:, None] * eigvector\n",
    "    grad_k = None\n",
    "    return (grad_A, grad_k)\n",
    "    \n",
    "DominantSymeig.defvjp(DominantSymeig_fwd,DominantSymeig_bwd)"
   ]
  },
  {
   "cell_type": "markdown",
   "metadata": {
    "id": "8GjDWNWtDtsE"
   },
   "source": [
    "# Compute the Fidelity Susceptibility\n",
    "- To compute the fidelity susceptibility, the function ``from_g_to_logproduct`` is defined, then second order derivative is executed on this function, with respect to $\\psi(g')$"
   ]
  },
  {
   "cell_type": "code",
   "execution_count": 17,
   "metadata": {
    "colab": {
     "base_uri": "https://localhost:8080/",
     "height": 814
    },
    "executionInfo": {
     "elapsed": 64746,
     "status": "error",
     "timestamp": 1632191089016,
     "user": {
      "displayName": "Catharsis Callo",
      "photoUrl": "https://lh3.googleusercontent.com/a-/AOh14GjYKz65NU1kB8xW9P-miQ8-Vlk76TiAniWp0Mvs=s64",
      "userId": "07780488775486619352"
     },
     "user_tz": -480
    },
    "id": "t3CKjnSgDtsE",
    "outputId": "a6a96907-e0e0-44ad-ad61-50ec65e99884"
   },
   "outputs": [],
   "source": [
    "def from_g_to_logproduct(g, N, k):\n",
    "    \"\"\"\n",
    "    Computing logproduct using DominantSymeig in symeig.py,\n",
    "    which is to perform AD with direct matrix form.\n",
    "\n",
    "    Input:  'g': parameter in TFIM\n",
    "            'N': number of sites\n",
    "            'k': number of Lanczos vectors\n",
    "    Output: 'log_product': the log product of the two\n",
    "                ground state wave funciton:\n",
    "                ln( < psi_0(g) | psi_0(g') > )\n",
    "                Here the AD is only applied to |psi(g')>\n",
    "    \"\"\"\n",
    "\n",
    "    model = TFIM(N,g)\n",
    "    model.setHmatrix()\n",
    "    hamiltonian = model.Hmatrix\n",
    "\n",
    "    energy_0, psi_0 = DominantSymeig(hamiltonian, k)\n",
    "\n",
    "    psi_matmul = jnp.matmul(lax.stop_gradient(psi_0),psi_0)\n",
    "    log_product = jnp.log(psi_matmul)\n",
    "    return log_product\n",
    "\n",
    "\n",
    "def fid_sus_matrix_AD(g,N,k):\n",
    "    \"\"\"\n",
    "        Computing fidelity susceptibility using DominantSymeig in symeig.py,\n",
    "    which is to perform AD with direct matrix form.\n",
    "    \"\"\"\n",
    "    g_diff = g\n",
    "    dlogdg = grad(from_g_to_logproduct)\n",
    "    d2logdg = grad(dlogdg)(g_diff,N,k)\n",
    "    fid_sus = - d2logdg\n",
    "    return fid_sus"
   ]
  },
  {
   "cell_type": "markdown",
   "metadata": {},
   "source": [
    "- Here the parameters of the model is defined, and the calculation is run in a loop."
   ]
  },
  {
   "cell_type": "code",
   "execution_count": 18,
   "metadata": {},
   "outputs": [
    {
     "name": "stdout",
     "output_type": "stream",
     "text": [
      " Completed."
     ]
    },
    {
     "data": {
      "image/png": "[encoded data removed]",
      "text/plain": [
       "<Figure size 432x288 with 1 Axes>"
      ]
     },
     "metadata": {
      "needs_background": "light"
     },
     "output_type": "display_data"
    }
   ],
   "source": [
    "N = 10\n",
    "N_2 = 13\n",
    "k = 300\n",
    "g_count = 100\n",
    "gs = np.linspace(0.5, 1.5, num = g_count)\n",
    "fid_sus_from_matrix_AD = np.empty(g_count)\n",
    "fid_sus_from_matrix_AD_2 = np.empty(g_count)\n",
    "\n",
    "for i in range(g_count):\n",
    "    fid_sus_from_matrix_AD[i] = fid_sus_matrix_AD(gs[i], N, k)\n",
    "    fid_sus_from_matrix_AD_2[i] = fid_sus_matrix_AD(gs[i], N_2, k)\n",
    "    print(f\"\\r g={gs[i]}\",end=\"\", flush=True)\n",
    "\n",
    "print(\"\\r Completed.\",end=\"\", flush=True)\n",
    "import matplotlib.pyplot as plt\n",
    "fig,ax = plt.subplots()\n",
    "ax.plot(gs, fid_sus_from_matrix_AD, label = \"N=10\")\n",
    "ax.plot(gs, fid_sus_from_matrix_AD_2, label = \"N=13\")\n",
    "ax.set_xlabel(r\"$g$\")\n",
    "ax.set_ylabel(r\"$\\chi_F$\")\n",
    "ax.set_title(\"Fidelity susceptibility of 1D TFIM\\n\" \n",
    "             \"With AD: normal representation\"\n",
    "        r\"$H = - \\sum_{i=0}^{N-1} (g\\sigma_i^x + \\sigma_i^z \\sigma_{i+1}^z)$\" \"\\n\")\n",
    "ax.legend()\n",
    "plt.show()"
   ]
  },
  {
   "cell_type": "code",
   "execution_count": null,
   "metadata": {
    "executionInfo": {
     "elapsed": 8,
     "status": "aborted",
     "timestamp": 1632191089014,
     "user": {
      "displayName": "Catharsis Callo",
      "photoUrl": "https://lh3.googleusercontent.com/a-/AOh14GjYKz65NU1kB8xW9P-miQ8-Vlk76TiAniWp0Mvs=s64",
      "userId": "07780488775486619352"
     },
     "user_tz": -480
    },
    "id": "6rL7GxSiDtsF"
   },
   "outputs": [],
   "source": []
  }
 ],
 "metadata": {
  "colab": {
   "collapsed_sections": [],
   "name": "fidelity_susceptibility.ipynb",
   "provenance": [],
   "toc_visible": true
  },
  "interpreter": {
   "hash": "adfe81d5190a53cfb42e4ca7b8cfa085ecc671138e5487419bf73a6946b713c2"
  },
  "kernelspec": {
   "display_name": "Python 3.8.11 64-bit ('ML_Condense': conda)",
   "name": "python3"
  },
  "language_info": {
   "codemirror_mode": {
    "name": "ipython",
    "version": 3
   },
   "file_extension": ".py",
   "mimetype": "text/x-python",
   "name": "python",
   "nbconvert_exporter": "python",
   "pygments_lexer": "ipython3",
   "version": "3.8.11"
  }
 },
 "nbformat": 4,
 "nbformat_minor": 2
}
