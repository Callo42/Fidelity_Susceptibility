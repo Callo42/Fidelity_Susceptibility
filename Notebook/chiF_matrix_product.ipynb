{
 "cells": [
  {
   "cell_type": "markdown",
   "metadata": {
    "id": "YDrOrJmyDtry"
   },
   "source": [
    "# Fidelity Susceptibility For 1D TFIM\n",
    "## 1D TFIM\n",
    "- The transverse field Ising model (TFIM) on a 1-dimensional lattice have the Hamiltonian:\n",
    "$$\n",
    "H = - \\sum_{i=0}^{N-1} \\left( g\\sigma_i^x + \\sigma_i^z \\sigma_{i+1}^z \\right)\n",
    "$$\n",
    "- Where g is a non-negtive parameter, have to do with the strength of the transverse magnetic field.\n",
    "\n",
    "## Fidelity Susceptibility\n",
    "- Fidelity susceptibility is used as an indicator for quantum phase transition (QPT), when the system is \n",
    "experiencing a QPT, the calculated fidelity susceptibility $\\chi_F$ would be significantly large.\n",
    "- From **quantum fidelity**, $F$:\n",
    "$$\n",
    "F(g, \\epsilon) = \\left| \\left< \\psi_0(g) | \\psi_0(g+\\epsilon) \\right> \\right|\n",
    "$$\n",
    "- We have **fidelity susceptibility**, $\\chi_F$ as:\n",
    "$$\n",
    "\\chi_{F}=-\\left.\\frac{\\partial^{2} \\ln F(g, \\varepsilon)}{\\partial \\varepsilon^{2}}\\right|_{\\varepsilon=0}\n",
    "$$\n",
    "- To make implementation more conveniently, we could transform it into another form:\n",
    "$$\n",
    "\\chi_{F}=-\\left.\\frac{\\partial^{2}}{\\partial g^{\\prime 2}} \\ln \\left|\\left\\langle\\psi_{0}(g) \\mid \\psi_{0}\\left(g^{\\prime}\\right)\\right\\rangle\\right|\\right|_{g^{\\prime}=g}\n",
    "$$\n",
    "- Note here the partial derivative is only applied to one of the two ground states."
   ]
  },
  {
   "cell_type": "markdown",
   "metadata": {},
   "source": [
    "# Implementation Guide\n",
    "- In this notebook, the automatic-differentiation (AD)is used to compute the second order derivative of the log product of the overlap of two ground state wave functions.\n",
    "- AD could be significantly powerful if we could define function primitives properly, and it gives a general paradigm for solving even higher order derivatives.\n",
    "- In this notebook, the AD package **JAX** is used to customize derivative rules for function primitives, and to perform the automatic differentiation."
   ]
  },
  {
   "cell_type": "markdown",
   "metadata": {
    "id": "0VDQQf8BDtr8"
   },
   "source": [
    "# Jax Support\n",
    "- Import **JAX** packages\n",
    "- And other support packages"
   ]
  },
  {
   "cell_type": "code",
   "execution_count": 1,
   "metadata": {
    "executionInfo": {
     "elapsed": 2692,
     "status": "ok",
     "timestamp": 1632191023825,
     "user": {
      "displayName": "Catharsis Callo",
      "photoUrl": "https://lh3.googleusercontent.com/a-/AOh14GjYKz65NU1kB8xW9P-miQ8-Vlk76TiAniWp0Mvs=s64",
      "userId": "07780488775486619352"
     },
     "user_tz": -480
    },
    "id": "NAWn8f-NDtr9"
   },
   "outputs": [],
   "source": [
    "import jax.numpy as jnp\n",
    "from jax import  grad,lax\n",
    "from jax.config import config\n",
    "from jax import custom_vjp\n",
    "from functools import partial\n",
    "import numpy as np\n",
    "\n",
    "config.update(\"jax_enable_x64\", True)"
   ]
  },
  {
   "cell_type": "markdown",
   "metadata": {
    "id": "oetnot36Dtr9"
   },
   "source": [
    "# TFIM Model Initialization\n",
    "- Initialize the TFIM model with the Hamiltonian shown above.\n",
    "- Note here only matrix product\n",
    "$$\n",
    "H \\cdot v\n",
    "$$\n",
    "- is needed"
   ]
  },
  {
   "cell_type": "code",
   "execution_count": 2,
   "metadata": {
    "executionInfo": {
     "elapsed": 5,
     "status": "ok",
     "timestamp": 1632191023825,
     "user": {
      "displayName": "Catharsis Callo",
      "photoUrl": "https://lh3.googleusercontent.com/a-/AOh14GjYKz65NU1kB8xW9P-miQ8-Vlk76TiAniWp0Mvs=s64",
      "userId": "07780488775486619352"
     },
     "user_tz": -480
    },
    "id": "l12fvXy1Dtr-"
   },
   "outputs": [],
   "source": [
    "def H_u_initialize(N):\n",
    "    \"\"\"\n",
    "    Input:  'N': the number of sites of TFIM model\n",
    "    Output: 'H_u': a function that returns H*u\n",
    "            'Hadjoint_to_gadjoint': the translation function\n",
    "                    to calculate gadjoint form\n",
    "                    Hadjoint\n",
    "    \"\"\"\n",
    "    dim = 2**N\n",
    "\n",
    "    #initialize the diagnal of the hamiltonian matrix\n",
    "    diag_index = jnp.arange(dim)[:, jnp.newaxis]\n",
    "    diag_bin_reps = (diag_index >> jnp.arange(N)[::-1]) & 1\n",
    "    diag_spins = 1 - 2 * diag_bin_reps\n",
    "    diag_spins_prime = jnp.hstack((diag_spins[:,1:],diag_spins[:,0:1]))\n",
    "    diag_elements = -(diag_spins * diag_spins_prime).sum(axis=1)\n",
    "\n",
    "    #initialize the basis of flips\n",
    "    flip_masks = jnp.array([1 << i for i in range(N)], dtype=\"int64\")\n",
    "    flip_basis = jnp.arange(dim)[:,None]\n",
    "    flips_basis = flip_basis ^ flip_masks\n",
    "\n",
    "    #first derivative of H, in a vector product form\n",
    "    def pHpg(v):\n",
    "        result_pHpg = -v[flips_basis].sum(axis=1)\n",
    "        return result_pHpg\n",
    "\n",
    "    #defining the product function H\n",
    "    def H_u(g,u):\n",
    "        \"\"\"\n",
    "        recieving the parameter g for TFIM model\n",
    "        and a vector u\n",
    "        then construct the Hamiltonian H,\n",
    "        return the product of H and u:H*u\n",
    "        \"\"\"\n",
    "        result_H_u = u * diag_elements - g * u[flips_basis].sum(axis=1)\n",
    "        return result_H_u\n",
    "    \n",
    "    def Hadjoint_to_gadjoint(v1,v2):\n",
    "        \"\"\"\n",
    "        the adjoint translation function to be \n",
    "        used in CG and symeig function\n",
    "\n",
    "        Input: 'v1': one required vector to calculate A\n",
    "                'v2': another vector to calculate A\n",
    "                then A = v1 * v2^T(outer product)\n",
    "        Output: 'g_adjoint': the adjoint of the parameters(g)\n",
    "                    with respect to A\n",
    "        \"\"\"\n",
    "\n",
    "        return jnp.matmul(pHpg(v2),v1)  #Here must ensure a scalar output\n",
    "        \n",
    "    \n",
    "    return H_u, Hadjoint_to_gadjoint"
   ]
  },
  {
   "cell_type": "markdown",
   "metadata": {
    "id": "EojZt-lCDtr_"
   },
   "source": [
    "# Lanczos Implementation\n",
    "- Here the Lanczos algorithm is used for eigensolver in the future.(see https://en.wikipedia.org/wiki/Lanczos_algorithm)"
   ]
  },
  {
   "cell_type": "markdown",
   "metadata": {
    "id": "dOVTJHd0Dtr_"
   },
   "source": [
    "## Lanczos Algorithm"
   ]
  },
  {
   "cell_type": "code",
   "execution_count": 3,
   "metadata": {
    "executionInfo": {
     "elapsed": 5,
     "status": "ok",
     "timestamp": 1632191023826,
     "user": {
      "displayName": "Catharsis Callo",
      "photoUrl": "https://lh3.googleusercontent.com/a-/AOh14GjYKz65NU1kB8xW9P-miQ8-Vlk76TiAniWp0Mvs=s64",
      "userId": "07780488775486619352"
     },
     "user_tz": -480
    },
    "id": "RSNF7JIsDtsA"
   },
   "outputs": [],
   "source": [
    "def Lanczos(g,A, k, *, sparse=True, dim=None):\n",
    "    \"\"\"\n",
    "    Lanczos method to help solve the eigenvalue\n",
    "    and eigenvector of a real symmetrix matrix.\n",
    "\n",
    "    Input:  'g': The parameter for TFIM model\n",
    "            'A': The n times n real symmetrix matrix.\n",
    "            'k': The number of Lanczos vectors requested.\n",
    "            'sparse': If sparse = True, means the matrix\n",
    "                    input A is in a linear function representation\n",
    "                    form.\n",
    "            'dim':  If sparse = True, then the integer param 'dim'\n",
    "                    should be given, indicating the dimension\n",
    "                    of the square matrix A\n",
    "\n",
    "    Output: A tuple (Q_k, T): Q_k = (q_1 q_2 ... q_k) is a n*k matrix, \n",
    "            whose columns contain k orthomormal Lanczos vectors q1, q2, ..., qk.\n",
    "            T is the tridiagonal matrix of size k, satisfying Qk^T * Q_k = I_k,\n",
    "            and T has the same eigenvalue with matrix A, and the eigenvector\n",
    "            of A could be drawn from the eigenvector of T.( let eigenvector of T\n",
    "            be x, then y=Q_k*x is the eigenvector of A)\n",
    "    \"\"\"\n",
    "    if sparse == True:\n",
    "        n = dim\n",
    "        dtype = jnp.float64\n",
    "        Amap = A\n",
    "    else:\n",
    "        raise NotImplementedError(\"In this programm must use sparse mode\")\n",
    "            \n",
    "    Q_k = jnp.zeros((n,k), dtype=dtype)\n",
    "    alphas = jnp.zeros(k, dtype=dtype)\n",
    "    betas = jnp.zeros(k - 1, dtype=dtype)\n",
    "    q = jnp.array(np.random.randn(n).astype(dtype))\n",
    "    q /= jnp.linalg.norm(q)\n",
    "    u = Amap(g,q)\n",
    "    alpha = jnp.matmul(q,u)\n",
    "    Q_k = Q_k.at[:, 0].set(q)\n",
    "    alphas = alphas.at[0].set(alpha)\n",
    "    beta = 0\n",
    "    qprime = jnp.array(np.random.randn(n).astype(dtype))\n",
    "    for i in range(1,k):\n",
    "        r = u - alpha * q - beta * qprime\n",
    "\n",
    "        #Reorthogonalization\n",
    "        r -= jnp.matmul(Q_k[:, :i], jnp.matmul(Q_k[:, :i].T, r))\n",
    "\n",
    "        qprime = q\n",
    "        beta = jnp.linalg.norm(r)\n",
    "        q = r / beta\n",
    "        u = Amap(g,q)\n",
    "        alpha = jnp.matmul(q,u)\n",
    "        alphas = alphas.at[i].set(alpha)\n",
    "        betas = betas.at[i-1].set(beta)\n",
    "        Q_k = Q_k.at[:, i].set(q)\n",
    "    #param k in jnp.diag indicates which diagonal to consider\n",
    "    T = jnp.diag(alphas) + jnp.diag(betas, k=1) + jnp.diag(betas, k=-1)\n",
    "    return Q_k, T"
   ]
  },
  {
   "cell_type": "markdown",
   "metadata": {
    "id": "G9ZjQ7pQDtsB"
   },
   "source": [
    "## Eigensolver for symmetric matrix with Lanczos\n",
    "- Computes the extreme eigenvalues and eigenvectors\n",
    "    upon request of a symmetric matrix A with Lanczos\n",
    "    algorithm implemented."
   ]
  },
  {
   "cell_type": "code",
   "execution_count": 4,
   "metadata": {
    "executionInfo": {
     "elapsed": 453,
     "status": "ok",
     "timestamp": 1632191024274,
     "user": {
      "displayName": "Catharsis Callo",
      "photoUrl": "https://lh3.googleusercontent.com/a-/AOh14GjYKz65NU1kB8xW9P-miQ8-Vlk76TiAniWp0Mvs=s64",
      "userId": "07780488775486619352"
     },
     "user_tz": -480
    },
    "id": "2jwUPmfbDtsC"
   },
   "outputs": [],
   "source": [
    "def symeigLanczos(g,A, k, extreme=\"both\", *,\n",
    "                    sparse=True, dim=None):\n",
    "    \"\"\"\n",
    "        Computes the extreme eigenvalues and eigenvectors\n",
    "    upon request of a symmetric matrix A with Lanczos\n",
    "    algorithm implemented.\n",
    "\n",
    "    Input: 'g': The parameter for TFIM model \n",
    "        'A': The n times n real symmetrix matrix.\n",
    "        'k': The number of Lanczos vectors requested.\n",
    "        'sparse': If sparse = True, means the matrix\n",
    "                input A is in a linear function representation\n",
    "                form.\n",
    "        'dim':  If sparse = True, then the integer param 'dim'\n",
    "                should be given, indicating the dimension\n",
    "                of the square matrix A\n",
    "        'extreme':  labels the desired eigenvalues and \n",
    "                corresponding eigenvectors to be returned.\n",
    "                Specificlly,\n",
    "                \"both\" -> both min and max.     --Output--> (eigval_min, eigvector_min, eigval_max, eigvector_max)\n",
    "                \"min\" -> min.                   --Output--> (eigval_min, eigvector_min)\n",
    "                \"max\" -> max.                   --Output--> (eigval_max, eigvector_max)\n",
    "    Output: See \"Input\" above.\n",
    "    \"\"\"\n",
    "    Q_k, T = Lanczos(g,A, k, sparse=sparse, dim=dim)\n",
    "    eigvalsQ, eigvectorsQ = jnp.linalg.eigh(T,UPLO='U')\n",
    "    eigvectorsQ = jnp.matmul(Q_k,eigvectorsQ)\n",
    "    if extreme == \"both\":\n",
    "        return eigvalsQ[0], eigvectorsQ[:, 0], eigvalsQ[-1], eigvectorsQ[:, -1]\n",
    "    elif extreme == \"min\":\n",
    "        return eigvalsQ[0], eigvectorsQ[:, 0]\n",
    "    elif extreme == \"max\":\n",
    "        return eigvalsQ[-1], eigvectorsQ[:, -1]"
   ]
  },
  {
   "cell_type": "markdown",
   "metadata": {
    "id": "qWL_uoAsDtsC"
   },
   "source": [
    "# CG Implementation\n",
    "- Conjugate Gradient(CG) method is used to solve linear system as $A \\vec{x} = \\vec{b}$"
   ]
  },
  {
   "cell_type": "markdown",
   "metadata": {
    "id": "O1SMdcepDtsC"
   },
   "source": [
    "## CG Linear System Solver"
   ]
  },
  {
   "cell_type": "code",
   "execution_count": 5,
   "metadata": {
    "executionInfo": {
     "elapsed": 11,
     "status": "ok",
     "timestamp": 1632191024278,
     "user": {
      "displayName": "Catharsis Callo",
      "photoUrl": "https://lh3.googleusercontent.com/a-/AOh14GjYKz65NU1kB8xW9P-miQ8-Vlk76TiAniWp0Mvs=s64",
      "userId": "07780488775486619352"
     },
     "user_tz": -480
    },
    "id": "27zBlORKDtsC"
   },
   "outputs": [],
   "source": [
    "def CG_Algorithm(g,A, b, initial_x, sparse=True):\n",
    "    \"\"\"\n",
    "    Solve for x in linear equation Ax=b\n",
    "    with an initial choose of x, initial_x.\n",
    "    Note here A is a matrix and x and b are vectors.\n",
    "    Using Conjugate Gradient(CG) method.\n",
    "\n",
    "    Input:  'g': The parameter for TFIM model \n",
    "        'A': The real symmetric and positive definite\n",
    "            matrix A.\n",
    "        'b': The vector corresponding to the equation Ax=b\n",
    "        'initial_x': The initial vector of the CG algorithm.\n",
    "        `sparse`: If sparse = True, means the matrix\n",
    "                input A is in a linear function representation\n",
    "                form. In any cases, the dimension of A is \n",
    "                inferred from the size of the vector b.\n",
    "    Output:\n",
    "        'x': the solution for Ax=b\n",
    "    \"\"\"\n",
    "    if sparse == True:\n",
    "        Amap = A\n",
    "    else:\n",
    "        raise NotImplementedError(\"In this programm must use sparse mode\")\n",
    "    n = b.shape[0]\n",
    "    epsilon = 1e-7\n",
    "    x = initial_x\n",
    "    r = b - Amap(g,x)\n",
    "\n",
    "    if(np.linalg.norm(r) < epsilon):\n",
    "        return x\n",
    "\n",
    "    d = r\n",
    "    alpha = np.matmul(r, r) / np.matmul(Amap(g,d),d)\n",
    "\n",
    "    for i in range(n):\n",
    "        x = x + alpha * d\n",
    "        r_next = r - alpha * Amap(g,d)\n",
    "        if(np.linalg.norm(r_next) < epsilon):\n",
    "            break\n",
    "        beta = np.matmul(r_next,r_next) / np.matmul(r,r)\n",
    "        r = r_next\n",
    "        d = r + beta * d\n",
    "        alpha = np.matmul(r,r) / np.matmul(Amap(g,d), d)\n",
    "    \n",
    "    return x"
   ]
  },
  {
   "cell_type": "markdown",
   "metadata": {
    "id": "614vKUVMDtsD"
   },
   "source": [
    "## CG function primitive\n",
    "- CG function primitive, here ``custom_vjp`` is used to customize the behavior of the back-propagation of the gradients. Reference:https://buwantaiji.github.io/2019/10/CG-backward/"
   ]
  },
  {
   "cell_type": "code",
   "execution_count": 6,
   "metadata": {
    "executionInfo": {
     "elapsed": 10,
     "status": "ok",
     "timestamp": 1632191024278,
     "user": {
      "displayName": "Catharsis Callo",
      "photoUrl": "https://lh3.googleusercontent.com/a-/AOh14GjYKz65NU1kB8xW9P-miQ8-Vlk76TiAniWp0Mvs=s64",
      "userId": "07780488775486619352"
     },
     "user_tz": -480
    },
    "id": "15XwnA1KDtsD"
   },
   "outputs": [],
   "source": [
    "@partial(custom_vjp, nondiff_argnums=(0,1,))\n",
    "def CGSubspaceSparse(Aadjoint_to_gadjoint, A, g, E_0, b, alpha):\n",
    "    \"\"\"\n",
    "    Function primitive for low-rank CG linear\n",
    "    system solver, here A is 'sparse',\n",
    "    hence in a function representation,\n",
    "    which is a linear transformation that\n",
    "    takes a vector as input and returns another\n",
    "    vector (A*v) as output.\n",
    "    Input:  'Aadjoint_to_gadjoint': The function that\n",
    "        recieves the adjoint of A and returns the\n",
    "        adjoint of the depending parameter g. Note\n",
    "        here 'Aadjoint_to_gadjoint' is a python callable.\n",
    "            'A': a linear transformation form of matrix A\n",
    "            'g': The depending parameter that determines matrix A.\n",
    "            'E_0': smallest eigvalue\n",
    "            'b': The vector satisfying (A - E_0I)x = b\n",
    "            'alpha': The unique eigenvector of A w.r.t. E_0\n",
    "    Output: the unique solution x of the low-rank \n",
    "            linear system (A - E_0I)x = b in addition to\n",
    "            the condition alpha^T x = 0.\n",
    "    \"\"\"\n",
    "    Aprime = lambda g,v: A(g,v) - E_0 * v\n",
    "    initial_x = jnp.array(np.random.randn(b.shape[0]).astype(b.dtype))\n",
    "    initial_x = initial_x - jnp.matmul(alpha,initial_x) * alpha\n",
    "    x = CG_Algorithm(g,Aprime,b,initial_x,sparse=True)\n",
    "    return x\n",
    "\n",
    "def CGSubspaceSparse_fwd(Aadjoint_to_gadjoint, A, g, E_0, b, alpha):\n",
    "    x = CGSubspaceSparse(Aadjoint_to_gadjoint,A,g,E_0,b,alpha)\n",
    "    res = (g, E_0, alpha,x)\n",
    "    return x, res\n",
    "\n",
    "def CGSubspaceSparse_bwd(Aadjoint_to_gadjoint,A,res, grad_x):\n",
    "    g, E_0, alpha,x = res\n",
    "    b = grad_x - jnp.matmul(alpha, grad_x) * alpha\n",
    "    grad_b = CGSubspaceSparse(Aadjoint_to_gadjoint, A, g, E_0, b, alpha)\n",
    "    v_1, v_2 = - grad_b, x\n",
    "    grad_alpha = -x * jnp.matmul(alpha, grad_x)\n",
    "    grad_E_0 = -jnp.matmul(v_1, v_2)\n",
    "    grad_g = Aadjoint_to_gadjoint(v_1, v_2)\n",
    "    return (grad_g,grad_E_0,grad_b,grad_alpha)\n",
    "\n",
    "CGSubspaceSparse.defvjp(CGSubspaceSparse_fwd,CGSubspaceSparse_bwd)"
   ]
  },
  {
   "cell_type": "markdown",
   "metadata": {
    "id": "VGf3dXK8DtsD"
   },
   "source": [
    "# Dominant Eigensolver primitive for symmetric matrix\n",
    "- Dominant eigensolver function primitive, also customized with ``costum_vjp``, and here the function recieves the input A as a normal matrix (but not a spare representation)."
   ]
  },
  {
   "cell_type": "code",
   "execution_count": 7,
   "metadata": {
    "executionInfo": {
     "elapsed": 11,
     "status": "ok",
     "timestamp": 1632191024279,
     "user": {
      "displayName": "Catharsis Callo",
      "photoUrl": "https://lh3.googleusercontent.com/a-/AOh14GjYKz65NU1kB8xW9P-miQ8-Vlk76TiAniWp0Mvs=s64",
      "userId": "07780488775486619352"
     },
     "user_tz": -480
    },
    "id": "fdWf8w3_DtsE"
   },
   "outputs": [],
   "source": [
    "@partial(custom_vjp, nondiff_argnums=(0,1,))\n",
    "def DominantSparseSymeig(Aadjoint_to_gadjoint, A, g, k, dim):\n",
    "    \"\"\"\n",
    "    Function primitive for dominant real symmetric\n",
    "    eigensolver,note here A is 'sparse',\n",
    "    hence in a function representation,\n",
    "    which is a linear transformation that\n",
    "    takes a vector as input and returns another\n",
    "    vector (A*v) as output.\n",
    "    Input:  'Aadjoint_to_gadjoint': The function that\n",
    "        recieves the adjoint of A and returns the\n",
    "        adjoint of the depending parameter g. Note\n",
    "        here 'Aadjoint_to_gadjoint' is a python callable.\n",
    "            'A': a linear transformation form of matrix A\n",
    "            'g': The depending parameter that determines matrix A.\n",
    "            'k': number of requested Lanczos vectors\n",
    "            'dim': The dimension of the square matrix A.\n",
    "    Output: 'eigval': the smallest eigenvalue of A\n",
    "            'eigvector':corresponding (non-degenerate)\n",
    "                    eigenvector\n",
    "    \"\"\"\n",
    "    eigval, eigvector = symeigLanczos(g,A,k,extreme=\"min\", sparse=True, dim=dim)\n",
    "    return (eigval, eigvector)\n",
    "\n",
    "def DominantSparseSymeig_fwd(Aadjoint_to_gadjoint, A, g, k, dim):\n",
    "    eigval, eigvector = DominantSparseSymeig(Aadjoint_to_gadjoint, A, g, k, dim)\n",
    "    res = (g, eigval, eigvector)\n",
    "    return (eigval, eigvector), res\n",
    "\n",
    "def DominantSparseSymeig_bwd(Aadjoint_to_gadjoint,A,res, grads):\n",
    "    grad_eigval, grad_eigvector = grads\n",
    "    g, eigval, eigvector = res\n",
    "    b = grad_eigvector - jnp.matmul(eigvector, grad_eigvector) * eigvector\n",
    "    lambda_0 = CGSubspaceSparse(Aadjoint_to_gadjoint, A, g, eigval, b, eigvector)\n",
    "    grad_A = grad_eigval * eigvector - lambda_0, eigvector\n",
    "    v_1, v_2 = grad_A\n",
    "    grad_g = Aadjoint_to_gadjoint(v_1,v_2)\n",
    "    grad_k = grad_dim = None\n",
    "    return (grad_g, grad_k,grad_dim)\n",
    "\n",
    "DominantSparseSymeig.defvjp(DominantSparseSymeig_fwd,DominantSparseSymeig_bwd)"
   ]
  },
  {
   "cell_type": "markdown",
   "metadata": {
    "id": "8GjDWNWtDtsE"
   },
   "source": [
    "# Compute the Fidelity Susceptibility\n",
    "- To compute the fidelity susceptibility, the function ``from_g_to_logproduct`` is defined, then second order derivative is executed on this function, with respect to $\\psi(g')$"
   ]
  },
  {
   "cell_type": "code",
   "execution_count": 8,
   "metadata": {
    "colab": {
     "base_uri": "https://localhost:8080/",
     "height": 814
    },
    "executionInfo": {
     "elapsed": 64746,
     "status": "error",
     "timestamp": 1632191089016,
     "user": {
      "displayName": "Catharsis Callo",
      "photoUrl": "https://lh3.googleusercontent.com/a-/AOh14GjYKz65NU1kB8xW9P-miQ8-Vlk76TiAniWp0Mvs=s64",
      "userId": "07780488775486619352"
     },
     "user_tz": -480
    },
    "id": "t3CKjnSgDtsE",
    "outputId": "a6a96907-e0e0-44ad-ad61-50ec65e99884"
   },
   "outputs": [],
   "source": [
    "def from_g_to_logproduct_sparse(g, N, k):\n",
    "    \"\"\"\n",
    "    Computing logproduct using DominantSymeig in symeig.py,\n",
    "    which is to perform AD with direct matrix form.\n",
    "\n",
    "    Input:  'g': parameter in TFIM\n",
    "            'g_no_diff': parameter in TFIM from which the\n",
    "                computed psi_0 will not be applied\n",
    "                to AD, have the same value with 'g'\n",
    "            'N': number of sites\n",
    "            'k': number of Lanczos vectors\n",
    "    Output: 'log_product': the log product of the two\n",
    "                ground state wave funciton:\n",
    "                ln( < psi_0(g) | psi_0(g') > )\n",
    "                Here the AD is only applied to |psi(g')>\n",
    "    \"\"\"\n",
    "\n",
    "    H_u, Hadjoint_to_gadjoint = H_u_initialize(N)\n",
    "    dim = 2**N\n",
    "    energy_0, psi_0 = DominantSparseSymeig(Hadjoint_to_gadjoint ,H_u,g,k,dim)\n",
    "    psi_matmul = jnp.matmul(lax.stop_gradient(psi_0),psi_0)\n",
    "    log_product = jnp.log(psi_matmul)\n",
    "    return log_product\n",
    "\n",
    "\n",
    "def fid_sus_sparse_repre(g,N,k):\n",
    "    \"\"\"\n",
    "        Computing fidelity susceptibility using DominantSparseSymeig in symeig.py,\n",
    "    which is to perform AD with sparse representation of matrix A.\n",
    "    \"\"\"\n",
    "    dlogdg = grad(from_g_to_logproduct_sparse,argnums=0)\n",
    "    d2logdg = grad(dlogdg,argnums=0)(g,N,k)\n",
    "    fid_sus = - d2logdg\n",
    "    return fid_sus"
   ]
  },
  {
   "cell_type": "markdown",
   "metadata": {},
   "source": [
    "- Here the parameters of the model is defined, and the calculation is run in a loop."
   ]
  },
  {
   "cell_type": "code",
   "execution_count": 9,
   "metadata": {},
   "outputs": [
    {
     "name": "stderr",
     "output_type": "stream",
     "text": [
      "WARNING:absl:No GPU/TPU found, falling back to CPU. (Set TF_CPP_MIN_LOG_LEVEL=0 and rerun for more info.)\n"
     ]
    },
    {
     "name": "stdout",
     "output_type": "stream",
     "text": [
      " Completed."
     ]
    },
    {
     "data": {
      "image/png": "[encoded data removed]",
      "text/plain": [
       "<Figure size 432x288 with 1 Axes>"
      ]
     },
     "metadata": {
      "needs_background": "light"
     },
     "output_type": "display_data"
    }
   ],
   "source": [
    "N = 10\n",
    "N_2 = 15\n",
    "# N_3 = 20\n",
    "k = 300\n",
    "g_count = 100\n",
    "gs = np.linspace(0.5, 1.5, num = g_count)\n",
    "fid_sus_from_sparse_repre = np.empty(g_count)\n",
    "fid_sus_from_sparse_repre_2 = np.empty(g_count)\n",
    "fid_sus_from_sparse_repre_3 = np.empty(g_count)\n",
    "\n",
    "for i in range(g_count):\n",
    "    fid_sus_from_sparse_repre[i] = fid_sus_sparse_repre(gs[i], N, k)\n",
    "    fid_sus_from_sparse_repre_2[i] = fid_sus_sparse_repre(gs[i], N_2, k)\n",
    "    # fid_sus_from_sparse_repre_3[i] = fid_sus_sparse_repre(gs[i], N_3, k)\n",
    "    print(f\"\\r g={gs[i]}\",end=\"\", flush=True)\n",
    "\n",
    "print(\"\\r Completed.\",end=\"\", flush=True)\n",
    "import matplotlib.pyplot as plt\n",
    "fig,ax = plt.subplots()\n",
    "ax.plot(gs, fid_sus_from_sparse_repre, label = f\"N={N}\")\n",
    "ax.plot(gs, fid_sus_from_sparse_repre_2, label = f\"N={N_2}\")\n",
    "# ax.plot(gs, fid_sus_from_sparse_repre_3, label = f\"N={N_3}\")\n",
    "ax.set_xlabel(r\"$g$\")\n",
    "ax.set_ylabel(r\"$\\chi_F$\")\n",
    "ax.set_title(\"Fidelity susceptibility of 1D TFIM\\n\" \n",
    "             \"With sparse matrix product\"\n",
    "        r\"$H = - \\sum_{i=0}^{N-1} (g\\sigma_i^x + \\sigma_i^z \\sigma_{i+1}^z)$\" \"\\n\")\n",
    "ax.legend()\n",
    "plt.show()"
   ]
  },
  {
   "cell_type": "code",
   "execution_count": null,
   "metadata": {
    "executionInfo": {
     "elapsed": 8,
     "status": "aborted",
     "timestamp": 1632191089014,
     "user": {
      "displayName": "Catharsis Callo",
      "photoUrl": "https://lh3.googleusercontent.com/a-/AOh14GjYKz65NU1kB8xW9P-miQ8-Vlk76TiAniWp0Mvs=s64",
      "userId": "07780488775486619352"
     },
     "user_tz": -480
    },
    "id": "6rL7GxSiDtsF"
   },
   "outputs": [],
   "source": []
  }
 ],
 "metadata": {
  "colab": {
   "collapsed_sections": [],
   "name": "fidelity_susceptibility.ipynb",
   "provenance": [],
   "toc_visible": true
  },
  "interpreter": {
   "hash": "adfe81d5190a53cfb42e4ca7b8cfa085ecc671138e5487419bf73a6946b713c2"
  },
  "kernelspec": {
   "display_name": "Python 3.8.11 64-bit ('ML_Condense': conda)",
   "name": "python3"
  },
  "language_info": {
   "codemirror_mode": {
    "name": "ipython",
    "version": 3
   },
   "file_extension": ".py",
   "mimetype": "text/x-python",
   "name": "python",
   "nbconvert_exporter": "python",
   "pygments_lexer": "ipython3",
   "version": "3.8.11"
  }
 },
 "nbformat": 4,
 "nbformat_minor": 2
}
